{
 "cells": [
  {
   "cell_type": "markdown",
   "id": "7246af72-9738-413a-8dd3-6daa364bc3b4",
   "metadata": {},
   "source": [
    "### Solucionadores"
   ]
  },
  {
   "cell_type": "code",
   "execution_count": 18,
   "id": "e59d6c83-27fd-41d5-9333-0d65f547c157",
   "metadata": {},
   "outputs": [],
   "source": [
    "toMap = If[Length[#] == 0, {#}, #] & ;"
   ]
  },
  {
   "cell_type": "code",
   "execution_count": 19,
   "id": "dc66bd2a-5620-4db5-ac86-bed8328299bc",
   "metadata": {},
   "outputs": [],
   "source": [
    "solver[eqs_, func_, var_, iCondtions_, {t0_, tf_, dt_}] := \n",
    " Module[{time, sol},\n",
    "  time = Range[t0, tf, dt];\n",
    "  sol = NDSolve[{eqs, iCondtions}, toMap[func], {var, t0, tf}];\n",
    "  sol =  Map[#[var] /. sol[[1]] /. var -> time &, toMap[func]];\n",
    "  Join[{time}, sol]]"
   ]
  },
  {
   "cell_type": "code",
   "execution_count": 20,
   "id": "000c3fc4-85c4-4fdf-8af4-7763e5e7abbd",
   "metadata": {},
   "outputs": [],
   "source": [
    "solverD[eqs_, func_, var_, iCondtions_, {t0_, tf_, dt_}] := \n",
    " Module[{time, soleq, sol, funcD, solD},\n",
    "  time = Range[t0, tf, dt];\n",
    "  funcD = Map[D[#[var], var] &, toMap[func]];\n",
    "  \n",
    "  soleq = NDSolve[Flatten@{eqs, iCondtions}, func, {var, t0, tf}];\n",
    "  sol =  Map[#[var] /. soleq[[1]] /. var -> time &, toMap[func]];\n",
    "  solD =  Map[# /. soleq[[1]] /. var -> time &, funcD];\n",
    "  Join[{time}, sol, solD]]"
   ]
  },
  {
   "cell_type": "markdown",
   "id": "39f5a064-0fe8-42b2-87d8-5fef6d626a9a",
   "metadata": {},
   "source": [
    "# Caida libre"
   ]
  },
  {
   "cell_type": "code",
   "execution_count": 21,
   "id": "191aedf8-29a9-45c8-90d5-50da2956d699",
   "metadata": {},
   "outputs": [],
   "source": [
    "eqs = {x'[t] == dx[t],\n",
    "   \tdx'[t] == - 9.81};\n",
    "ci = {x[0] == 0, dx[0] == 50};\n",
    "{time, y, vy} = solver[eqs, {x, dx}, t, ci, {0, 15, .1}];\n",
    "\n",
    "eqs = {x''[t] == - 9.81};\n",
    "ci = {x[0] == 0, x'[0] == 50};\n",
    "{timeD, yD, vyD} = solverD[eqs, x, t, ci, {0, 15, .1}];"
   ]
  },
  {
   "cell_type": "code",
   "execution_count": 31,
   "id": "cf013112-b575-4f38-9e27-6a7c4585a050",
   "metadata": {},
   "outputs": [],
   "source": [
    "grOpts1 = {PlotTheme -> \"Scientific\", FrameLabel -> {\"t\", \"y[t]\"}, \n",
    "   ImageSize -> Medium};\n",
    "grOpts2 = {PlotTheme -> \"Scientific\", FrameLabel -> {\"y[t]\", \"y'[t]\"},\n",
    "    ImageSize -> Medium};\n",
    "\n",
    "data1 = Table[Row[{\n",
    "   ListPlot[Transpose[{time, y}][[1 ;; j]], \n",
    "    PlotRange -> {MinMax[time, .1], MinMax[y, .1]}, Evaluate[grOpts1]],\n",
    "   ListPlot[Transpose[{y, vy}][[1 ;; j]], \n",
    "    PlotRange -> {MinMax[y, .1], MinMax[vy, .1]}, Evaluate[grOpts2]]}],\n",
    " {j, 1, Length[time], 1}];\n",
    "\n",
    "data2 = Table[Row[{\n",
    "   ListPlot[Transpose[{timeD, yD}][[1 ;; j]], \n",
    "    PlotRange -> {MinMax[timeD, .1], MinMax[yD, .1]}, \n",
    "    Evaluate[grOpts1]],\n",
    "   ListPlot[Transpose[{yD, vyD}][[1 ;; j]], \n",
    "    PlotRange -> {MinMax[yD, .1], MinMax[vyD, .1]}, \n",
    "    Evaluate[grOpts2]]}],\n",
    " {j, 1, Length[time], 1}];"
   ]
  },
  {
   "cell_type": "code",
   "execution_count": 36,
   "id": "ec4dc28c-e5d4-48e7-858c-f0bb9285838c",
   "metadata": {},
   "outputs": [
    {
     "data": {
      "text/html": [
       "<style>\n",
       "\t\t\t\t\t\t\t\t\t\t\t\t\t.grid-container {\n",
       "\t\t\t\t\t\t\t\t\t\t\t\t\t\tdisplay: inline-grid;\n",
       "\t\t\t\t\t\t\t\t\t\t\t\t\t\tgrid-template-columns: auto;\n",
       "\t\t\t\t\t\t\t\t\t\t\t\t\t}\n",
       "\t\t\t\t\t\t\t\t\t\t\t\t</style>\n",
       "\n",
       "\t\t\t\t\t\t\t\t\t\t\t\t<div><div class=\"grid-container\"><div class=\"grid-item\"><pre style=\"&#102;&#111;&#110;&#116;&#45;&#102;&#97;&#109;&#105;&#108;&#121;&#58;&#32;&#34;&#67;&#111;&#117;&#114;&#105;&#101;&#114;&#32;&#78;&#101;&#119;&#34;&#44;&#67;&#111;&#117;&#114;&#105;&#101;&#114;&#44;&#109;&#111;&#110;&#111;&#115;&#112;&#97;&#99;&#101;&#59;\">&#67;&#97;&#105;&#100;&#97;&#76;&#105;&#98;&#114;&#101;&#46;&#103;&#105;&#102;</pre></div><div class=\"grid-item\"><pre style=\"&#102;&#111;&#110;&#116;&#45;&#102;&#97;&#109;&#105;&#108;&#121;&#58;&#32;&#34;&#67;&#111;&#117;&#114;&#105;&#101;&#114;&#32;&#78;&#101;&#119;&#34;&#44;&#67;&#111;&#117;&#114;&#105;&#101;&#114;&#44;&#109;&#111;&#110;&#111;&#115;&#112;&#97;&#99;&#101;&#59;\">&#67;&#97;&#105;&#100;&#97;&#76;&#105;&#98;&#114;&#101;&#68;&#46;&#103;&#105;&#102;</pre></div></div></div>"
      ],
      "text/plain": [
       "CaidaLibre.gif\n",
       "CaidaLibreD.gif"
      ]
     },
     "execution_count": 36,
     "metadata": {
      "text/html": [],
      "text/plain": []
     },
     "output_type": "execute_result"
    }
   ],
   "source": [
    "Export[\"CaidaLibre.gif\",data1, \"DisplayDurations\" -> .15, \"AnimationRepetitions\" -> \\[Infinity]]\n",
    "Export[\"CaidaLibreD.gif\",data2, \"DisplayDurations\" -> .15, \"AnimationRepetitions\" -> \\[Infinity]]"
   ]
  },
  {
   "cell_type": "markdown",
   "id": "b112d35c-50a3-4784-bf44-e1e5baf54ebe",
   "metadata": {},
   "source": [
    "# Pendulo físico y armónico"
   ]
  },
  {
   "cell_type": "code",
   "execution_count": 38,
   "id": "0f76337b-ded8-4a05-b599-ff8897b33152",
   "metadata": {},
   "outputs": [],
   "source": [
    "grOpts1 = {PlotTheme->\"Scientific\",FrameLabel->{\"t\",\"\\[Theta][t]\"},ImageSize->Medium};\n",
    "grOpts2 = {PlotTheme->\"Scientific\",FrameLabel->{\"\\[Theta][t]\",\"\\[Theta]'[t]\"},ImageSize->Medium};\n",
    "grOpts3 = {PlotTheme->\"Scientific\",FrameLabel->{\"x[t]\",\"y[t]\"},ImageSize->Medium};"
   ]
  },
  {
   "cell_type": "code",
   "execution_count": 41,
   "id": "bac23c96-a639-46e2-a076-972d46fb2c3b",
   "metadata": {},
   "outputs": [
    {
     "data": {
      "text/html": [
       "<div><pre style=\"&#102;&#111;&#110;&#116;&#45;&#102;&#97;&#109;&#105;&#108;&#121;&#58;&#32;&#34;&#67;&#111;&#117;&#114;&#105;&#101;&#114;&#32;&#78;&#101;&#119;&#34;&#44;&#67;&#111;&#117;&#114;&#105;&#101;&#114;&#44;&#109;&#111;&#110;&#111;&#115;&#112;&#97;&#99;&#101;&#59;\">&#123;&#48;&#44;&#32;&#52;&#46;&#52;&#56;&#53;&#55;&#44;&#32;&#48;&#46;&#48;&#49;&#125;</pre></div>"
      ],
      "text/plain": [
       "{0, 4.4857, 0.01}"
      ]
     },
     "execution_count": 42,
     "metadata": {
      "text/html": [],
      "text/plain": []
     },
     "output_type": "execute_result"
    }
   ],
   "source": [
    "g = 9.81;ell = 5;\n",
    "time  = {0,2*Pi*Sqrt[ell/g],.01}\n",
    "\n",
    "eqsReal = {th'[t] == dth[t],\n",
    "\tdth'[t] == - (g/ell)*Sin[th[t]]};\n",
    "\n",
    "eqsSimple = {th'[t] == dth[t],\n",
    "\tdth'[t] == - (g/ell)*th[t]};\n",
    "ci ={th[0]==-Pi/4,dth[0]==0};\n",
    "\n",
    "{tt,\\[Theta]1,d\\[Theta]1} = solver[eqsReal,{th,dth},t,ci,time];\n",
    "{tt,\\[Theta]2,d\\[Theta]2} = solver[eqsSimple,{th,dth},t,ci,time];"
   ]
  },
  {
   "cell_type": "code",
   "execution_count": 48,
   "id": "80b42619-bdd2-40cb-9f85-6f0d30b7bc30",
   "metadata": {},
   "outputs": [
    {
     "data": {
      "text/html": [
       "<div><pre style=\"&#102;&#111;&#110;&#116;&#45;&#102;&#97;&#109;&#105;&#108;&#121;&#58;&#32;&#34;&#67;&#111;&#117;&#114;&#105;&#101;&#114;&#32;&#78;&#101;&#119;&#34;&#44;&#67;&#111;&#117;&#114;&#105;&#101;&#114;&#44;&#109;&#111;&#110;&#111;&#115;&#112;&#97;&#99;&#101;&#59;\">&#80;&#101;&#110;&#100;&#117;&#108;&#111;&#115;&#46;&#103;&#105;&#102;</pre></div>"
      ],
      "text/plain": [
       "Pendulos.gif"
      ]
     },
     "execution_count": 50,
     "metadata": {
      "text/html": [],
      "text/plain": []
     },
     "output_type": "execute_result"
    }
   ],
   "source": [
    "data = Table[Row[{\n",
    "   ListPlot[{Transpose[{tt, \\[Theta]1}][[1 ;; j]], \n",
    "     Transpose[{tt, \\[Theta]2}][[1 ;; j]]},\n",
    "    \t\tPlotRange -> {MinMax[tt, .1], \n",
    "      MinMax[Flatten[{\\[Theta]1, \\[Theta]2}], .1]}, Evaluate[grOpts1]],\n",
    "   ListPlot[{Transpose[{\\[Theta]1, d\\[Theta]1}][[1 ;; j]], \n",
    "     Transpose[{\\[Theta]2, d\\[Theta]2}][[1 ;; j]]}, AspectRatio -> 1,\n",
    "                    \n",
    "    PlotRange -> {MinMax[Flatten[{\\[Theta]1, \\[Theta]2}], .1], \n",
    "      MinMax[Flatten[{d\\[Theta]1, d\\[Theta]2}], .1]}, \n",
    "    Evaluate[grOpts2]],\n",
    "   ListPlot[\n",
    "    ell*Transpose[{Sin[#], -Cos[#]}] & /@ {\\[Theta]1, \\[Theta]2}[[;; ,\n",
    "        1 ;; j]],\n",
    "                  PlotRange -> ell*{{-1, 1}, {-1, .01}}, \n",
    "    AspectRatio -> 1, Evaluate[grOpts3],\n",
    "                  \n",
    "    Epilog -> { Orange, \n",
    "      Arrow[{{0, 0}, \n",
    "        ell*{Sin[\\[Theta]1[[j]]], -Cos[\\[Theta]1[[j]] ]}}],\n",
    "                                    Blue, \n",
    "      Arrow[{{0, 0}, \n",
    "        ell*{Sin[\\[Theta]2[[j]]], -Cos[\\[Theta]2[[j]] ]}}]}]\n",
    "   }], {j, 1, Length[tt], 1}];\n",
    "   \n",
    "Export[\"Pendulos.gif\",data, \"DisplayDurations\" -> .15, \"AnimationRepetitions\" -> \\[Infinity]]"
   ]
  },
  {
   "cell_type": "markdown",
   "id": "632633f7-0cc9-47ae-8a76-e30e3a12776a",
   "metadata": {},
   "source": [
    "# Péndulo y resorte"
   ]
  },
  {
   "cell_type": "code",
   "execution_count": 51,
   "id": "36261906-658c-46c5-bec5-32635ee19e4b",
   "metadata": {},
   "outputs": [
    {
     "data": {
      "text/html": [
       "<div><pre style=\"&#102;&#111;&#110;&#116;&#45;&#102;&#97;&#109;&#105;&#108;&#121;&#58;&#32;&#34;&#67;&#111;&#117;&#114;&#105;&#101;&#114;&#32;&#78;&#101;&#119;&#34;&#44;&#67;&#111;&#117;&#114;&#105;&#101;&#114;&#44;&#109;&#111;&#110;&#111;&#115;&#112;&#97;&#99;&#101;&#59;\">&#123;&#48;&#44;&#32;&#54;&#46;&#51;&#52;&#51;&#55;&#52;&#44;&#32;&#48;&#46;&#48;&#49;&#125;</pre></div>"
      ],
      "text/plain": [
       "{0, 6.34374, 0.01}"
      ]
     },
     "execution_count": 53,
     "metadata": {
      "text/html": [],
      "text/plain": []
     },
     "output_type": "execute_result"
    }
   ],
   "source": [
    "g  =9.81; ell = 10;\n",
    "w0 = 5;\n",
    "time  = {0,2*Pi*Sqrt[ell/g],.01}"
   ]
  },
  {
   "cell_type": "code",
   "execution_count": 54,
   "id": "4d30606a-945f-43c7-9dbf-5c95945d4ae5",
   "metadata": {},
   "outputs": [
    {
     "data": {
      "text/html": [
       "<div><img alt=\"Output\" src=\"data:image/png;base64,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\"></div>"
      ],
      "text/plain": [
       "{r'[t] == dr[t], th'[t] == dth[t], dr'[t] == \n",
       " \n",
       "                                              2\n",
       ">    -9.81 (1 - Cos[th[t]]) - 25 r[t] + dth[t]  (10 + r[t]), \n",
       " \n",
       "               -2 dr[t] dth[t] - 9.81 Sin[th[t]]\n",
       ">   dth'[t] == ---------------------------------}\n",
       "                           10 + r[t]"
      ]
     },
     "execution_count": 54,
     "metadata": {
      "text/html": [],
      "text/plain": []
     },
     "output_type": "execute_result"
    }
   ],
   "source": [
    "eqs = {r'[t] == dr[t],\n",
    "  \tth'[t] == dth[t],\n",
    "  \tdr'[t] == ((ell + r[t])*dth[t]^2 - w0^2*r[t] - \n",
    "     g (1 - Cos[th[t]])),\n",
    "  \tdth'[t] == -(2*dth[t]*dr[t] + g*Sin[th[t]])/(ell + r[t])}\n",
    "\n",
    "ci = {th[0] == -Pi/4, dth[0] == 0, r[0] == 0, dr[0] == 0};\n",
    "{tt, s, ds, \\[Theta], d\\[Theta]} = \n",
    "  solver[eqs, {r, dr, th, dth}, t, ci, time];"
   ]
  },
  {
   "cell_type": "code",
   "execution_count": 57,
   "id": "64396f10-ab84-4c45-ae1b-1b3614cb0c4f",
   "metadata": {},
   "outputs": [
    {
     "data": {
      "text/html": [
       "<div><pre style=\"&#102;&#111;&#110;&#116;&#45;&#102;&#97;&#109;&#105;&#108;&#121;&#58;&#32;&#34;&#67;&#111;&#117;&#114;&#105;&#101;&#114;&#32;&#78;&#101;&#119;&#34;&#44;&#67;&#111;&#117;&#114;&#105;&#101;&#114;&#44;&#109;&#111;&#110;&#111;&#115;&#112;&#97;&#99;&#101;&#59;\">&#80;&#101;&#110;&#100;&#117;&#107;&#108;&#111;&#82;&#101;&#115;&#111;&#114;&#116;&#101;&#46;&#103;&#105;&#102;</pre></div>"
      ],
      "text/plain": [
       "PendukloResorte.gif"
      ]
     },
     "execution_count": 58,
     "metadata": {
      "text/html": [],
      "text/plain": []
     },
     "output_type": "execute_result"
    }
   ],
   "source": [
    "data = Table[Row[{\n",
    "\tColumn[{\n",
    "\t\tListPlot[Transpose[{tt,s}][[1;;j]],\n",
    "\t\tPlotRange->{MinMax[tt,.1],MinMax[s,.1]},\n",
    "\t\tPlotTheme->\"Scientific\",FrameLabel->{\"t\",\"s[t]\"},ImageSize->Medium],\n",
    "\tListPlot[Transpose[{tt,\\[Theta]}][[1;;j]],\n",
    "\t\tPlotRange->{MinMax[tt,.1],MinMax[\\[Theta],.1]},\n",
    "\t\tPlotTheme->\"Scientific\",FrameLabel->{\"t\",\"\\[Theta][t]\"},ImageSize->Medium]\n",
    "}],\n",
    "\tColumn[{\n",
    "\t\tListPlot[Transpose[{s,ds}][[1;;j]],\n",
    "\t\tPlotRange->{MinMax[s,.1],MinMax[ds,.1]},\n",
    "\t\tPlotTheme->\"Scientific\",FrameLabel->{\"s[t]\",\"ds[t]\"},ImageSize->Medium],\n",
    "\tListPlot[Transpose[{\\[Theta],d\\[Theta]}][[1;;j]],\n",
    "\t\tPlotRange->{MinMax[\\[Theta],.1],MinMax[d\\[Theta],.1]},\n",
    "\t\tPlotTheme->\"Scientific\",FrameLabel->{\"\\[Theta][t]\",\"d\\[Theta][t]\"},ImageSize->Medium]\n",
    "}],\n",
    "ListPlot[((ell+s)*Transpose[{Sin[\\[Theta]],-Cos[\\[Theta]]}])[[1;;j]],\n",
    "PlotRange->(ell+Max[s]+.1)*{{-1,1},{-1,.01}},AspectRatio->1,\n",
    "PlotTheme->\"Scientific\",FrameLabel->{\"x\",\"y\"},ImageSize->Medium,\n",
    "Epilog->{ Orange,Arrow[{{0,0},(ell+s[[j]])*{Sin[\\[Theta][[j]]],-Cos[\\[Theta][[j]] ]}}]}\n",
    "]\n",
    "}],\n",
    "{j,1,Length[tt],1}];\n",
    "\n",
    "Export[\"PendukloResorte.gif\",data, \"DisplayDurations\" -> .15, \"AnimationRepetitions\" -> \\[Infinity]]"
   ]
  },
  {
   "cell_type": "code",
   "execution_count": 60,
   "id": "03c8da58-38fa-4d42-945b-2c1e5a14971b",
   "metadata": {},
   "outputs": [
    {
     "data": {
      "text/html": [
       "<div><pre style=\"&#102;&#111;&#110;&#116;&#45;&#102;&#97;&#109;&#105;&#108;&#121;&#58;&#32;&#34;&#67;&#111;&#117;&#114;&#105;&#101;&#114;&#32;&#78;&#101;&#119;&#34;&#44;&#67;&#111;&#117;&#114;&#105;&#101;&#114;&#44;&#109;&#111;&#110;&#111;&#115;&#112;&#97;&#99;&#101;&#59;\">&#80;&#101;&#110;&#100;&#117;&#107;&#108;&#111;&#82;&#101;&#115;&#111;&#114;&#116;&#101;&#46;&#103;&#105;&#102;</pre></div>"
      ],
      "text/plain": [
       "PendukloResorte.gif"
      ]
     },
     "execution_count": 60,
     "metadata": {
      "text/html": [],
      "text/plain": []
     },
     "output_type": "execute_result"
    }
   ],
   "source": [
    "Export[\"PendukloResorte.gif\",data, \"DisplayDurations\" -> .05, \"AnimationRepetitions\" -> \\[Infinity]]"
   ]
  },
  {
   "cell_type": "code",
   "execution_count": null,
   "id": "b8c4e93b-7b30-4c05-a3b7-cb12b31634ea",
   "metadata": {},
   "outputs": [],
   "source": []
  }
 ],
 "metadata": {
  "kernelspec": {
   "display_name": "Wolfram Language 13",
   "language": "Wolfram Language",
   "name": "wolframlanguage13"
  },
  "language_info": {
   "codemirror_mode": "mathematica",
   "file_extension": ".m",
   "mimetype": "application/vnd.wolfram.m",
   "name": "Wolfram Language",
   "pygments_lexer": "mathematica",
   "version": "12.0"
  }
 },
 "nbformat": 4,
 "nbformat_minor": 5
}
